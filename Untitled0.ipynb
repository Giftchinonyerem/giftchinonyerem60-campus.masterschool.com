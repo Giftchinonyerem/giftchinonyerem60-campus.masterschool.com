{
  "nbformat": 4,
  "nbformat_minor": 0,
  "metadata": {
    "colab": {
      "provenance": [],
      "authorship_tag": "ABX9TyMvg7f1/np8wNytXloaP0p1",
      "include_colab_link": true
    },
    "kernelspec": {
      "name": "python3",
      "display_name": "Python 3"
    },
    "language_info": {
      "name": "python"
    }
  },
  "cells": [
    {
      "cell_type": "markdown",
      "metadata": {
        "id": "view-in-github",
        "colab_type": "text"
      },
      "source": [
        "<a href=\"https://colab.research.google.com/github/Giftchinonyerem/giftchinonyerem60-campus.masterschool.com/blob/main/Untitled0.ipynb\" target=\"_parent\"><img src=\"https://colab.research.google.com/assets/colab-badge.svg\" alt=\"Open In Colab\"/></a>"
      ]
    },
    {
      "cell_type": "code",
      "execution_count": null,
      "metadata": {
        "colab": {
          "base_uri": "https://localhost:8080/"
        },
        "id": "nbpTra-GDNLS",
        "outputId": "4c067772-0058-445a-ee33-2e8efe5196ba"
      },
      "outputs": [
        {
          "output_type": "stream",
          "name": "stdout",
          "text": [
            "Hello World!\n"
          ]
        }
      ],
      "source": [
        "print(\"Hello World!\")\n"
      ]
    },
    {
      "cell_type": "code",
      "source": [
        "input(\"What is my name?\")\n",
        "name = \"Gift\"\n",
        "lenght = name\n",
        "print(lenght)"
      ],
      "metadata": {
        "colab": {
          "base_uri": "https://localhost:8080/"
        },
        "id": "0s5SidDfFpTf",
        "outputId": "62cb1e31-267e-44a8-bb0b-e8d68c1957aa"
      },
      "execution_count": null,
      "outputs": [
        {
          "output_type": "stream",
          "name": "stdout",
          "text": [
            "What is my name?Gift\n",
            "Gift\n"
          ]
        }
      ]
    },
    {
      "cell_type": "code",
      "source": [
        "# 🚨 Don't change the code below 👇\n",
        "height = float(input(\"enter your height in m: \"))\n",
        "weight = float(input(\"enter your weight in kg: \"))\n",
        "# 🚨 Don't change the code above 👆\n",
        "\n",
        "#Write your code below this line 👇\n",
        "\n",
        "\n",
        "\n",
        "BMI = round(weight / height**2)\n",
        "\n",
        "if BMI < 18.5:\n",
        "    print(f\"Your BMI is {BMI}, you are underweight\")\n",
        "elif BMI < 25:\n",
        "    print(f\"Your BMI is {BMI}, you have a normal weight\")\n",
        "elif BMI < 30:\n",
        "    print(f\"Your BMI is {BMI}, you are slightly overweight\")\n",
        "elif BMI > 30:\n",
        "    print(f\"Your BMI is {BMI}, you are obese\")\n",
        "else:\n",
        "    print(f\"Your BMI is {BMI}, you are clinically obese\")\n",
        "\n",
        "\n",
        "\n",
        "\n",
        "\n",
        "\n",
        "\n"
      ],
      "metadata": {
        "id": "Fd2xihzeFplK",
        "outputId": "da290935-ae7f-4dc9-fe3e-11b786ce6426",
        "colab": {
          "base_uri": "https://localhost:8080/"
        }
      },
      "execution_count": 1,
      "outputs": [
        {
          "output_type": "stream",
          "name": "stdout",
          "text": [
            "enter your height in m: 1.9\n",
            "enter your weight in kg: 80\n",
            "Your BMI is 22, you have a normal weight\n"
          ]
        }
      ]
    },
    {
      "cell_type": "code",
      "source": [],
      "metadata": {
        "id": "2f0IvBnIPVGS"
      },
      "execution_count": null,
      "outputs": []
    },
    {
      "cell_type": "code",
      "source": [],
      "metadata": {
        "id": "Q2u4EPFrPVJK"
      },
      "execution_count": null,
      "outputs": []
    },
    {
      "cell_type": "code",
      "source": [],
      "metadata": {
        "id": "z6jrIqKdPVNj"
      },
      "execution_count": null,
      "outputs": []
    },
    {
      "cell_type": "code",
      "source": [],
      "metadata": {
        "id": "2aeErVqBPVRe"
      },
      "execution_count": null,
      "outputs": []
    },
    {
      "cell_type": "code",
      "source": [],
      "metadata": {
        "id": "UNkws6RgPVU9"
      },
      "execution_count": null,
      "outputs": []
    },
    {
      "cell_type": "code",
      "source": [],
      "metadata": {
        "id": "OJvzkU7_PVX_"
      },
      "execution_count": null,
      "outputs": []
    },
    {
      "cell_type": "code",
      "source": [],
      "metadata": {
        "id": "UKZUtom1PVbY"
      },
      "execution_count": null,
      "outputs": []
    },
    {
      "cell_type": "code",
      "source": [],
      "metadata": {
        "id": "Cd_QZ_-ePVee"
      },
      "execution_count": null,
      "outputs": []
    },
    {
      "cell_type": "code",
      "source": [],
      "metadata": {
        "id": "3oCKre4APVhK"
      },
      "execution_count": null,
      "outputs": []
    },
    {
      "cell_type": "code",
      "source": [],
      "metadata": {
        "id": "poByXIi1PVkm"
      },
      "execution_count": null,
      "outputs": []
    },
    {
      "cell_type": "code",
      "source": [],
      "metadata": {
        "id": "irwkK66ePVn1"
      },
      "execution_count": null,
      "outputs": []
    },
    {
      "cell_type": "code",
      "source": [],
      "metadata": {
        "id": "bjmv1QT9PVrc"
      },
      "execution_count": null,
      "outputs": []
    },
    {
      "cell_type": "code",
      "source": [],
      "metadata": {
        "id": "UvJPD3GqPVuU"
      },
      "execution_count": null,
      "outputs": []
    },
    {
      "cell_type": "code",
      "source": [],
      "metadata": {
        "id": "pxXEi91sFpqa"
      },
      "execution_count": null,
      "outputs": []
    },
    {
      "cell_type": "code",
      "source": [],
      "metadata": {
        "id": "udt28g0qFpt2"
      },
      "execution_count": null,
      "outputs": []
    },
    {
      "cell_type": "code",
      "source": [],
      "metadata": {
        "id": "NapMiJ5qFpwm"
      },
      "execution_count": null,
      "outputs": []
    },
    {
      "cell_type": "code",
      "source": [],
      "metadata": {
        "id": "4khcPBwLFpzn"
      },
      "execution_count": null,
      "outputs": []
    },
    {
      "cell_type": "code",
      "source": [],
      "metadata": {
        "id": "Cz44yLPmFp2d"
      },
      "execution_count": null,
      "outputs": []
    },
    {
      "cell_type": "code",
      "source": [],
      "metadata": {
        "id": "cGMlUYwmFp5V"
      },
      "execution_count": null,
      "outputs": []
    }
  ]
}